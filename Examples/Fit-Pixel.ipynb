{
 "cells": [
  {
   "cell_type": "markdown",
   "metadata": {},
   "source": [
    "# Fit Pixel\n",
    "\n",
    "In this notebook we will fit a single pixel in a data cube for NGC628."
   ]
  },
  {
   "cell_type": "markdown",
   "metadata": {},
   "source": [
    "#### * If you have not yet downloaded the sample data cube, uncomment the below cell and run and download the sample data cube.  \n",
    "This will save a 900MB file called `sample_data.hdf5` to the **`ExampleData`** directory in the **`LUCI`** folder. Do not be concerned if it takes a few minutes to download."
   ]
  },
  {
   "cell_type": "code",
   "execution_count": 1,
   "metadata": {},
   "outputs": [],
   "source": [
    "# !wget -O Data/NGC628_SN3.hdf5  https://ws.cadc-ccda.hia-iha.nrc-cnrc.gc.ca/data/pub/CFHT/2307000z.hdf5?RUNID=xc9le6u8llecp7fp"
   ]
  },
  {
   "cell_type": "code",
   "execution_count": 2,
   "metadata": {},
   "outputs": [
    {
     "name": "stderr",
     "output_type": "stream",
     "text": [
      "2022-09-23 17:15:35.134280: W tensorflow/stream_executor/platform/default/dso_loader.cc:64] Could not load dynamic library 'libcudart.so.11.0'; dlerror: libcudart.so.11.0: cannot open shared object file: No such file or directory; LD_LIBRARY_PATH: /app/lib\n",
      "2022-09-23 17:15:35.134321: I tensorflow/stream_executor/cuda/cudart_stub.cc:29] Ignore above cudart dlerror if you do not have a GPU set up on your machine.\n"
     ]
    }
   ],
   "source": [
    "# Imports\n",
    "import os\n",
    "import sys\n",
    "\n",
    "import numpy as np\n",
    "import matplotlib.pyplot as plt\n",
    "\n",
    "# Get location of LUCI \n",
    "path = os.path.abspath(os.path.pardir)  \n",
    "sys.path.insert(0, path)  # add LUCI to the available paths\n",
    "\n",
    "from LuciBase import Luci\n",
    "\n",
    "%config Completer.use_jedi=False  # enable autocompletion when typing in Jupyter notebooks"
   ]
  },
  {
   "cell_type": "markdown",
   "metadata": {},
   "source": [
    "Set the required parameters. We will be using our machine learning algorithm to get the initial guesses - this happens under the hood in `LuciFit`, so that the user is not required to think about the initial guess"
   ]
  },
  {
   "cell_type": "code",
   "execution_count": 3,
   "metadata": {},
   "outputs": [],
   "source": [
    "# Initialize paths and set parameters\n",
    "Luci_path = path+'/'\n",
    "cube_dir = '/mnt/carterrhea/carterrhea/NGC628'  # Full path to data cube\n",
    "cube_name = 'NGC628_SN3.merged.cm1.1.0'  # don't add .hdf5 extension\n",
    "object_name = 'NGC628'\n",
    "redshift = 0.000133  # Redshift of object\n",
    "resolution = 1000 # The actual resolution is 400, but we don't have ML algorithms for that resolution, so use 1000"
   ]
  },
  {
   "cell_type": "markdown",
   "metadata": {},
   "source": [
    "Intialize our LUCI object"
   ]
  },
  {
   "cell_type": "code",
   "execution_count": 4,
   "metadata": {},
   "outputs": [
    {
     "name": "stdout",
     "output_type": "stream",
     "text": [
      "Reading in data...\n"
     ]
    },
    {
     "name": "stderr",
     "output_type": "stream",
     "text": [
      "100%|██████████| 9/9 [00:12<00:00,  1.43s/it]"
     ]
    },
    {
     "name": "stdout",
     "output_type": "stream",
     "text": [
      "WARNING:tensorflow:SavedModel saved prior to TF 2.5 detected when loading Keras model. Please ensure that you are saving the model with model.save() or tf.keras.models.save_model(), *NOT* tf.saved_model.save(). To confirm, there should be a file named \"keras_metadata.pb\" in the SavedModel directory.\n"
     ]
    },
    {
     "name": "stderr",
     "output_type": "stream",
     "text": [
      "\n",
      "2022-09-23 17:15:50.892253: W tensorflow/stream_executor/platform/default/dso_loader.cc:64] Could not load dynamic library 'libcuda.so.1'; dlerror: libcuda.so.1: cannot open shared object file: No such file or directory; LD_LIBRARY_PATH: /app/lib\n",
      "2022-09-23 17:15:50.892282: W tensorflow/stream_executor/cuda/cuda_driver.cc:269] failed call to cuInit: UNKNOWN ERROR (303)\n",
      "2022-09-23 17:15:50.892301: I tensorflow/stream_executor/cuda/cuda_diagnostics.cc:156] kernel driver does not appear to be running on this host (pop-os): /proc/driver/nvidia/version does not exist\n",
      "2022-09-23 17:15:50.892484: I tensorflow/core/platform/cpu_feature_guard.cc:151] This TensorFlow binary is optimized with oneAPI Deep Neural Network Library (oneDNN) to use the following CPU instructions in performance-critical operations:  AVX2 FMA\n",
      "To enable them in other operations, rebuild TensorFlow with the appropriate compiler flags.\n"
     ]
    }
   ],
   "source": [
    "cube = Luci(Luci_path, cube_dir + '/' + cube_name, cube_dir, object_name, redshift, resolution)"
   ]
  },
  {
   "cell_type": "markdown",
   "metadata": {},
   "source": [
    "Create a deep frame"
   ]
  },
  {
   "cell_type": "markdown",
   "metadata": {},
   "source": [
    "Let's extract a background region and take a look at it. The background region is defined in a ds9 region file in the `ExampleData` folder."
   ]
  },
  {
   "cell_type": "code",
   "execution_count": 5,
   "metadata": {},
   "outputs": [
    {
     "name": "stderr",
     "output_type": "stream",
     "text": [
      "100%|██████████| 2064/2064 [00:00<00:00, 2616.61it/s]\n"
     ]
    }
   ],
   "source": [
    "# We use 'mean = True' to take the mean of the emission in the region instead of the sum\n",
    "bkg_axis, bkg_sky = cube.extract_spectrum_region(cube_dir+'/bkg.reg', mean=True)"
   ]
  },
  {
   "cell_type": "markdown",
   "metadata": {},
   "source": [
    "We will now fit a single pixel and take a look at the fit. This fit commands has all the same options as all the other commands except for binning :)"
   ]
  },
  {
   "cell_type": "code",
   "execution_count": 6,
   "metadata": {},
   "outputs": [
    {
     "ename": "IndexError",
     "evalue": "invalid index to scalar variable.",
     "output_type": "error",
     "traceback": [
      "\u001b[0;31m---------------------------------------------------------------------------\u001b[0m",
      "\u001b[0;31mIndexError\u001b[0m                                Traceback (most recent call last)",
      "Cell \u001b[0;32mIn [6], line 2\u001b[0m\n\u001b[1;32m      1\u001b[0m \u001b[38;5;66;03m# Fit!\u001b[39;00m\n\u001b[0;32m----> 2\u001b[0m axis, sky, fit_dict \u001b[38;5;241m=\u001b[39m \u001b[43mcube\u001b[49m\u001b[38;5;241;43m.\u001b[39;49m\u001b[43mfit_pixel\u001b[49m\u001b[43m(\u001b[49m\n\u001b[1;32m      3\u001b[0m \u001b[43m    \u001b[49m\u001b[43m[\u001b[49m\u001b[38;5;124;43m'\u001b[39;49m\u001b[38;5;124;43mHalpha\u001b[39;49m\u001b[38;5;124;43m'\u001b[39;49m\u001b[43m,\u001b[49m\u001b[43m \u001b[49m\u001b[38;5;124;43m'\u001b[39;49m\u001b[38;5;124;43mNII6548\u001b[39;49m\u001b[38;5;124;43m'\u001b[39;49m\u001b[43m,\u001b[49m\u001b[43m \u001b[49m\u001b[38;5;124;43m'\u001b[39;49m\u001b[38;5;124;43mNII6583\u001b[39;49m\u001b[38;5;124;43m'\u001b[39;49m\u001b[43m,\u001b[49m\u001b[43m \u001b[49m\u001b[38;5;124;43m'\u001b[39;49m\u001b[38;5;124;43mSII6716\u001b[39;49m\u001b[38;5;124;43m'\u001b[39;49m\u001b[43m,\u001b[49m\u001b[43m \u001b[49m\u001b[38;5;124;43m'\u001b[39;49m\u001b[38;5;124;43mSII6731\u001b[39;49m\u001b[38;5;124;43m'\u001b[39;49m\u001b[43m]\u001b[49m\u001b[43m,\u001b[49m\u001b[43m  \u001b[49m\u001b[38;5;66;43;03m# lines\u001b[39;49;00m\n\u001b[1;32m      4\u001b[0m \u001b[43m    \u001b[49m\u001b[38;5;124;43m'\u001b[39;49m\u001b[38;5;124;43msincgauss\u001b[39;49m\u001b[38;5;124;43m'\u001b[39;49m\u001b[43m,\u001b[49m\u001b[43m   \u001b[49m\u001b[38;5;66;43;03m# fit function\u001b[39;49;00m\n\u001b[1;32m      5\u001b[0m \u001b[43m    \u001b[49m\u001b[43m[\u001b[49m\u001b[38;5;241;43m1\u001b[39;49m\u001b[43m,\u001b[49m\u001b[38;5;241;43m1\u001b[39;49m\u001b[43m,\u001b[49m\u001b[38;5;241;43m1\u001b[39;49m\u001b[43m,\u001b[49m\u001b[38;5;241;43m1\u001b[39;49m\u001b[43m,\u001b[49m\u001b[38;5;241;43m1\u001b[39;49m\u001b[43m]\u001b[49m\u001b[43m,\u001b[49m\u001b[43m  \u001b[49m\u001b[38;5;66;43;03m# velocity relationship \u001b[39;49;00m\n\u001b[1;32m      6\u001b[0m \u001b[43m    \u001b[49m\u001b[43m[\u001b[49m\u001b[38;5;241;43m1\u001b[39;49m\u001b[43m,\u001b[49m\u001b[38;5;241;43m1\u001b[39;49m\u001b[43m,\u001b[49m\u001b[38;5;241;43m1\u001b[39;49m\u001b[43m,\u001b[49m\u001b[38;5;241;43m1\u001b[39;49m\u001b[43m,\u001b[49m\u001b[38;5;241;43m1\u001b[39;49m\u001b[43m]\u001b[49m\u001b[43m,\u001b[49m\u001b[43m  \u001b[49m\u001b[38;5;66;43;03m# sigma relationship\u001b[39;49;00m\n\u001b[1;32m      7\u001b[0m \u001b[43m    \u001b[49m\u001b[38;5;241;43m1250\u001b[39;49m\u001b[43m,\u001b[49m\u001b[43m \u001b[49m\u001b[38;5;241;43m1045\u001b[39;49m\u001b[43m,\u001b[49m\u001b[43m    \u001b[49m\u001b[38;5;66;43;03m# x & y coordinate\u001b[39;49;00m\n\u001b[1;32m      8\u001b[0m \u001b[43m    \u001b[49m\u001b[43mbkg\u001b[49m\u001b[38;5;241;43m=\u001b[39;49m\u001b[43mbkg_sky\u001b[49m\u001b[43m,\u001b[49m\u001b[43m \u001b[49m\u001b[43muncertainty_bool\u001b[49m\u001b[38;5;241;43m=\u001b[39;49m\u001b[38;5;28;43;01mTrue\u001b[39;49;00m\n\u001b[1;32m      9\u001b[0m \u001b[43m)\u001b[49m\n",
      "File \u001b[0;32m~/Documents/LUCI/LuciBase.py:711\u001b[0m, in \u001b[0;36mLuci.fit_pixel\u001b[0;34m(self, lines, fit_function, vel_rel, sigma_rel, pixel_x, pixel_y, bin, bkg, bayes_bool, bayes_method, uncertainty_bool, nii_cons, spec_min, spec_max, obj_redshift, n_stoch)\u001b[0m\n\u001b[1;32m    700\u001b[0m \u001b[39m# Call fit!\u001b[39;00m\n\u001b[1;32m    701\u001b[0m fit \u001b[39m=\u001b[39m Fit(sky, axis, \u001b[39mself\u001b[39m\u001b[39m.\u001b[39mwavenumbers_syn, fit_function, lines, vel_rel, sigma_rel,\n\u001b[1;32m    702\u001b[0m           \u001b[39mself\u001b[39m\u001b[39m.\u001b[39mmodel_ML, trans_filter\u001b[39m=\u001b[39m\u001b[39mself\u001b[39m\u001b[39m.\u001b[39mtransmission_interpolated,\n\u001b[1;32m    703\u001b[0m           theta\u001b[39m=\u001b[39m\u001b[39mself\u001b[39m\u001b[39m.\u001b[39minterferometer_theta[pixel_x, pixel_y],\n\u001b[0;32m   (...)\u001b[0m\n\u001b[1;32m    709\u001b[0m           mdn\u001b[39m=\u001b[39m\u001b[39mself\u001b[39m\u001b[39m.\u001b[39mmdn, nii_cons\u001b[39m=\u001b[39mnii_cons,\n\u001b[1;32m    710\u001b[0m           spec_min\u001b[39m=\u001b[39mspec_min, spec_max\u001b[39m=\u001b[39mspec_max, obj_redshift\u001b[39m=\u001b[39mobj_redshift, n_stoch\u001b[39m=\u001b[39mn_stoch)\n\u001b[0;32m--> 711\u001b[0m fit_dict \u001b[39m=\u001b[39m fit\u001b[39m.\u001b[39;49mfit()\n\u001b[1;32m    712\u001b[0m \u001b[39mreturn\u001b[39;00m axis, sky, fit_dict\n",
      "File \u001b[0;32m~/Documents/LUCI/LUCI/LuciFit.py:706\u001b[0m, in \u001b[0;36mFit.fit\u001b[0;34m(self, sky_line)\u001b[0m\n\u001b[1;32m    703\u001b[0m     \u001b[39mself\u001b[39m\u001b[39m.\u001b[39mspectrum_scale \u001b[39m=\u001b[39m np\u001b[39m.\u001b[39mmax(\u001b[39mself\u001b[39m\u001b[39m.\u001b[39mspectrum)\n\u001b[1;32m    704\u001b[0m \u001b[39m# Apply Fit\u001b[39;00m\n\u001b[1;32m    705\u001b[0m \u001b[39m# if self.initial_conditions is False:\u001b[39;00m\n\u001b[0;32m--> 706\u001b[0m \u001b[39mself\u001b[39;49m\u001b[39m.\u001b[39;49mcalculate_params()\n\u001b[1;32m    707\u001b[0m \u001b[39m# else:\u001b[39;00m\n\u001b[1;32m    708\u001b[0m \u001b[39m#    self.calculate_params_frozen()\u001b[39;00m\n\u001b[1;32m    709\u001b[0m \u001b[39mif\u001b[39;00m np\u001b[39m.\u001b[39misnan(\u001b[39mself\u001b[39m\u001b[39m.\u001b[39mfit_sol[\u001b[39m0\u001b[39m]):  \u001b[39m# Check that there are no Nans in solution\u001b[39;00m\n\u001b[1;32m    710\u001b[0m     \u001b[39m# If a Nan is found, then we redo the fit without the ML priors\u001b[39;00m\n",
      "File \u001b[0;32m~/Documents/LUCI/LUCI/LuciFit.py:597\u001b[0m, in \u001b[0;36mFit.calculate_params\u001b[0;34m(self)\u001b[0m\n\u001b[1;32m    595\u001b[0m \u001b[39melse\u001b[39;00m:\n\u001b[1;32m    596\u001b[0m     cons \u001b[39m=\u001b[39m sigma_cons \u001b[39m+\u001b[39m vel_cons\u001b[39m# + vel_cons_multiple\u001b[39;00m\n\u001b[0;32m--> 597\u001b[0m soln \u001b[39m=\u001b[39m minimize(nll, initial,\n\u001b[1;32m    598\u001b[0m             method\u001b[39m=\u001b[39;49m\u001b[39m'\u001b[39;49m\u001b[39mSLSQP\u001b[39;49m\u001b[39m'\u001b[39;49m,\n\u001b[1;32m    599\u001b[0m             options\u001b[39m=\u001b[39;49m{\u001b[39m'\u001b[39;49m\u001b[39mdisp\u001b[39;49m\u001b[39m'\u001b[39;49m: \u001b[39mFalse\u001b[39;49;00m, \u001b[39m'\u001b[39;49m\u001b[39mmaxiter\u001b[39;49m\u001b[39m'\u001b[39;49m: \u001b[39m100\u001b[39;49m},\n\u001b[1;32m    600\u001b[0m             tol\u001b[39m=\u001b[39;49m\u001b[39m1e-4\u001b[39;49m,\n\u001b[1;32m    601\u001b[0m             args\u001b[39m=\u001b[39;49m(), constraints\u001b[39m=\u001b[39;49mcons\n\u001b[1;32m    602\u001b[0m             )\n\u001b[1;32m    603\u001b[0m \u001b[39mif\u001b[39;00m st \u001b[39m==\u001b[39m \u001b[39m0\u001b[39m:\n\u001b[1;32m    604\u001b[0m     best_loss \u001b[39m=\u001b[39m soln\u001b[39m.\u001b[39mfun\n",
      "File \u001b[0;32m~/miniconda3/envs/luci/lib/python3.9/site-packages/scipy/optimize/_minimize.py:627\u001b[0m, in \u001b[0;36mminimize\u001b[0;34m(fun, x0, args, method, jac, hess, hessp, bounds, constraints, tol, callback, options)\u001b[0m\n\u001b[1;32m    625\u001b[0m     \u001b[39mreturn\u001b[39;00m _minimize_cobyla(fun, x0, args, constraints, \u001b[39m*\u001b[39m\u001b[39m*\u001b[39moptions)\n\u001b[1;32m    626\u001b[0m \u001b[39melif\u001b[39;00m meth \u001b[39m==\u001b[39m \u001b[39m'\u001b[39m\u001b[39mslsqp\u001b[39m\u001b[39m'\u001b[39m:\n\u001b[0;32m--> 627\u001b[0m     \u001b[39mreturn\u001b[39;00m _minimize_slsqp(fun, x0, args, jac, bounds,\n\u001b[1;32m    628\u001b[0m                            constraints, callback\u001b[39m=\u001b[39;49mcallback, \u001b[39m*\u001b[39;49m\u001b[39m*\u001b[39;49moptions)\n\u001b[1;32m    629\u001b[0m \u001b[39melif\u001b[39;00m meth \u001b[39m==\u001b[39m \u001b[39m'\u001b[39m\u001b[39mtrust-constr\u001b[39m\u001b[39m'\u001b[39m:\n\u001b[1;32m    630\u001b[0m     \u001b[39mreturn\u001b[39;00m _minimize_trustregion_constr(fun, x0, args, jac, hess, hessp,\n\u001b[1;32m    631\u001b[0m                                         bounds, constraints,\n\u001b[1;32m    632\u001b[0m                                         callback\u001b[39m=\u001b[39mcallback, \u001b[39m*\u001b[39m\u001b[39m*\u001b[39moptions)\n",
      "File \u001b[0;32m~/miniconda3/envs/luci/lib/python3.9/site-packages/scipy/optimize/slsqp.py:375\u001b[0m, in \u001b[0;36m_minimize_slsqp\u001b[0;34m(func, x0, args, jac, bounds, constraints, maxiter, ftol, iprint, disp, eps, callback, finite_diff_rel_step, **unknown_options)\u001b[0m\n\u001b[1;32m    372\u001b[0m     xu[infbnd[:, \u001b[39m1\u001b[39m]] \u001b[39m=\u001b[39m np\u001b[39m.\u001b[39mnan\n\u001b[1;32m    374\u001b[0m \u001b[39m# ScalarFunction provides function and gradient evaluation\u001b[39;00m\n\u001b[0;32m--> 375\u001b[0m sf \u001b[39m=\u001b[39m _prepare_scalar_function(func, x, jac\u001b[39m=\u001b[39;49mjac, args\u001b[39m=\u001b[39;49margs, epsilon\u001b[39m=\u001b[39;49meps,\n\u001b[1;32m    376\u001b[0m                               finite_diff_rel_step\u001b[39m=\u001b[39;49mfinite_diff_rel_step,\n\u001b[1;32m    377\u001b[0m                               bounds\u001b[39m=\u001b[39;49mnew_bounds)\n\u001b[1;32m    378\u001b[0m \u001b[39m# gh11403 SLSQP sometimes exceeds bounds by 1 or 2 ULP, make sure this\u001b[39;00m\n\u001b[1;32m    379\u001b[0m \u001b[39m# doesn't get sent to the func/grad evaluator.\u001b[39;00m\n\u001b[1;32m    380\u001b[0m wrapped_fun \u001b[39m=\u001b[39m _clip_x_for_func(sf\u001b[39m.\u001b[39mfun, new_bounds)\n",
      "File \u001b[0;32m~/miniconda3/envs/luci/lib/python3.9/site-packages/scipy/optimize/optimize.py:261\u001b[0m, in \u001b[0;36m_prepare_scalar_function\u001b[0;34m(fun, x0, jac, args, bounds, epsilon, finite_diff_rel_step, hess)\u001b[0m\n\u001b[1;32m    257\u001b[0m     bounds \u001b[39m=\u001b[39m (\u001b[39m-\u001b[39mnp\u001b[39m.\u001b[39minf, np\u001b[39m.\u001b[39minf)\n\u001b[1;32m    259\u001b[0m \u001b[39m# ScalarFunction caches. Reuse of fun(x) during grad\u001b[39;00m\n\u001b[1;32m    260\u001b[0m \u001b[39m# calculation reduces overall function evaluations.\u001b[39;00m\n\u001b[0;32m--> 261\u001b[0m sf \u001b[39m=\u001b[39m ScalarFunction(fun, x0, args, grad, hess,\n\u001b[1;32m    262\u001b[0m                     finite_diff_rel_step, bounds, epsilon\u001b[39m=\u001b[39;49mepsilon)\n\u001b[1;32m    264\u001b[0m \u001b[39mreturn\u001b[39;00m sf\n",
      "File \u001b[0;32m~/miniconda3/envs/luci/lib/python3.9/site-packages/scipy/optimize/_differentiable_functions.py:136\u001b[0m, in \u001b[0;36mScalarFunction.__init__\u001b[0;34m(self, fun, x0, args, grad, hess, finite_diff_rel_step, finite_diff_bounds, epsilon)\u001b[0m\n\u001b[1;32m    133\u001b[0m     \u001b[39mself\u001b[39m\u001b[39m.\u001b[39mf \u001b[39m=\u001b[39m fun_wrapped(\u001b[39mself\u001b[39m\u001b[39m.\u001b[39mx)\n\u001b[1;32m    135\u001b[0m \u001b[39mself\u001b[39m\u001b[39m.\u001b[39m_update_fun_impl \u001b[39m=\u001b[39m update_fun\n\u001b[0;32m--> 136\u001b[0m \u001b[39mself\u001b[39;49m\u001b[39m.\u001b[39;49m_update_fun()\n\u001b[1;32m    138\u001b[0m \u001b[39m# Gradient evaluation\u001b[39;00m\n\u001b[1;32m    139\u001b[0m \u001b[39mif\u001b[39;00m callable(grad):\n",
      "File \u001b[0;32m~/miniconda3/envs/luci/lib/python3.9/site-packages/scipy/optimize/_differentiable_functions.py:226\u001b[0m, in \u001b[0;36mScalarFunction._update_fun\u001b[0;34m(self)\u001b[0m\n\u001b[1;32m    224\u001b[0m \u001b[39mdef\u001b[39;00m \u001b[39m_update_fun\u001b[39m(\u001b[39mself\u001b[39m):\n\u001b[1;32m    225\u001b[0m     \u001b[39mif\u001b[39;00m \u001b[39mnot\u001b[39;00m \u001b[39mself\u001b[39m\u001b[39m.\u001b[39mf_updated:\n\u001b[0;32m--> 226\u001b[0m         \u001b[39mself\u001b[39;49m\u001b[39m.\u001b[39;49m_update_fun_impl()\n\u001b[1;32m    227\u001b[0m         \u001b[39mself\u001b[39m\u001b[39m.\u001b[39mf_updated \u001b[39m=\u001b[39m \u001b[39mTrue\u001b[39;00m\n",
      "File \u001b[0;32m~/miniconda3/envs/luci/lib/python3.9/site-packages/scipy/optimize/_differentiable_functions.py:133\u001b[0m, in \u001b[0;36mScalarFunction.__init__.<locals>.update_fun\u001b[0;34m()\u001b[0m\n\u001b[1;32m    132\u001b[0m \u001b[39mdef\u001b[39;00m \u001b[39mupdate_fun\u001b[39m():\n\u001b[0;32m--> 133\u001b[0m     \u001b[39mself\u001b[39m\u001b[39m.\u001b[39mf \u001b[39m=\u001b[39m fun_wrapped(\u001b[39mself\u001b[39;49m\u001b[39m.\u001b[39;49mx)\n",
      "File \u001b[0;32m~/miniconda3/envs/luci/lib/python3.9/site-packages/scipy/optimize/_differentiable_functions.py:130\u001b[0m, in \u001b[0;36mScalarFunction.__init__.<locals>.fun_wrapped\u001b[0;34m(x)\u001b[0m\n\u001b[1;32m    128\u001b[0m \u001b[39mdef\u001b[39;00m \u001b[39mfun_wrapped\u001b[39m(x):\n\u001b[1;32m    129\u001b[0m     \u001b[39mself\u001b[39m\u001b[39m.\u001b[39mnfev \u001b[39m+\u001b[39m\u001b[39m=\u001b[39m \u001b[39m1\u001b[39m\n\u001b[0;32m--> 130\u001b[0m     \u001b[39mreturn\u001b[39;00m fun(x, \u001b[39m*\u001b[39;49margs)\n",
      "File \u001b[0;32m~/Documents/LUCI/LUCI/LuciFit.py:571\u001b[0m, in \u001b[0;36mFit.calculate_params.<locals>.<lambda>\u001b[0;34m(*args)\u001b[0m\n\u001b[1;32m    569\u001b[0m best_fit \u001b[39m=\u001b[39m \u001b[39mNone\u001b[39;00m  \u001b[39m# Initialize best fit\u001b[39;00m\n\u001b[1;32m    570\u001b[0m best_loss \u001b[39m=\u001b[39m \u001b[39m1e46\u001b[39m  \u001b[39m# Initialize as a large number\u001b[39;00m\n\u001b[0;32m--> 571\u001b[0m nll \u001b[39m=\u001b[39m \u001b[39mlambda\u001b[39;00m \u001b[39m*\u001b[39margs: \u001b[39m-\u001b[39m\u001b[39mself\u001b[39;49m\u001b[39m.\u001b[39;49mlog_likelihood(\u001b[39m*\u001b[39;49margs)  \u001b[39m# Negative Log Likelihood function\u001b[39;00m\n\u001b[1;32m    572\u001b[0m \u001b[39mif\u001b[39;00m \u001b[39mnot\u001b[39;00m \u001b[39mself\u001b[39m\u001b[39m.\u001b[39mfreeze:  \u001b[39m# Not freezing velocity and broadening\u001b[39;00m\n\u001b[1;32m    573\u001b[0m     \u001b[39mfor\u001b[39;00m st \u001b[39min\u001b[39;00m \u001b[39mrange\u001b[39m(\u001b[39mself\u001b[39m\u001b[39m.\u001b[39mn_stoch):  \u001b[39m# Do N fits and record the one with the best loss \u001b[39;00m\n",
      "File \u001b[0;32m~/Documents/LUCI/LUCI/LuciFit.py:445\u001b[0m, in \u001b[0;36mFit.log_likelihood\u001b[0;34m(self, theta)\u001b[0m\n\u001b[1;32m    442\u001b[0m     model \u001b[39m=\u001b[39m Sinc(\u001b[39mself\u001b[39m\u001b[39m.\u001b[39mfreeze)\u001b[39m.\u001b[39mevaluate(\u001b[39mself\u001b[39m\u001b[39m.\u001b[39maxis_restricted, theta, \u001b[39mself\u001b[39m\u001b[39m.\u001b[39mline_num, \u001b[39mself\u001b[39m\u001b[39m.\u001b[39msinc_width,\n\u001b[1;32m    443\u001b[0m                                        )\n\u001b[1;32m    444\u001b[0m \u001b[39melif\u001b[39;00m \u001b[39mself\u001b[39m\u001b[39m.\u001b[39mmodel_type \u001b[39m==\u001b[39m \u001b[39m'\u001b[39m\u001b[39msincgauss\u001b[39m\u001b[39m'\u001b[39m:\n\u001b[0;32m--> 445\u001b[0m     model \u001b[39m=\u001b[39m SincGauss(\u001b[39mself\u001b[39;49m\u001b[39m.\u001b[39;49mfreeze, \u001b[39mself\u001b[39;49m\u001b[39m.\u001b[39;49minitial_values)\u001b[39m.\u001b[39;49mevaluate(\u001b[39mself\u001b[39;49m\u001b[39m.\u001b[39;49maxis_restricted, theta, \u001b[39mself\u001b[39;49m\u001b[39m.\u001b[39;49mline_num,\n\u001b[1;32m    446\u001b[0m                                                                  \u001b[39mself\u001b[39;49m\u001b[39m.\u001b[39;49msinc_width,\n\u001b[1;32m    447\u001b[0m                                                                  line_names\u001b[39m=\u001b[39;49m\u001b[39mself\u001b[39;49m\u001b[39m.\u001b[39;49mlines)\n\u001b[1;32m    448\u001b[0m \u001b[39m# Add constant continuum to model\u001b[39;00m\n\u001b[1;32m    449\u001b[0m model \u001b[39m+\u001b[39m\u001b[39m=\u001b[39m np\u001b[39m.\u001b[39mreal(theta[\u001b[39m-\u001b[39m\u001b[39m1\u001b[39m])\n",
      "File \u001b[0;32m~/Documents/LUCI/LUCI/LuciFunctions.py:250\u001b[0m, in \u001b[0;36mSincGauss.evaluate\u001b[0;34m(self, channel, theta, line_num, sinc_width, line_names)\u001b[0m\n\u001b[1;32m    248\u001b[0m \u001b[39melse\u001b[39;00m:  \u001b[39m# Just read off parameters directly\u001b[39;00m\n\u001b[1;32m    249\u001b[0m     thetas \u001b[39m=\u001b[39m [theta[model_num \u001b[39m*\u001b[39m \u001b[39m3\u001b[39m:(model_num \u001b[39m+\u001b[39m \u001b[39m1\u001b[39m) \u001b[39m*\u001b[39m \u001b[39m3\u001b[39m] \u001b[39mfor\u001b[39;00m model_num \u001b[39min\u001b[39;00m \u001b[39mrange\u001b[39m(line_num)]\n\u001b[0;32m--> 250\u001b[0m f1 \u001b[39m=\u001b[39m np\u001b[39m.\u001b[39madd\u001b[39m.\u001b[39mreduce([\u001b[39mself\u001b[39m\u001b[39m.\u001b[39mfunction(channel, thetas[model_num], sinc_width) \u001b[39mfor\u001b[39;00m model_num \u001b[39min\u001b[39;00m \u001b[39mrange\u001b[39m(line_num)])\n\u001b[1;32m    251\u001b[0m \u001b[39mreturn\u001b[39;00m np\u001b[39m.\u001b[39mreal(f1)\n",
      "File \u001b[0;32m~/Documents/LUCI/LUCI/LuciFunctions.py:250\u001b[0m, in \u001b[0;36m<listcomp>\u001b[0;34m(.0)\u001b[0m\n\u001b[1;32m    248\u001b[0m \u001b[39melse\u001b[39;00m:  \u001b[39m# Just read off parameters directly\u001b[39;00m\n\u001b[1;32m    249\u001b[0m     thetas \u001b[39m=\u001b[39m [theta[model_num \u001b[39m*\u001b[39m \u001b[39m3\u001b[39m:(model_num \u001b[39m+\u001b[39m \u001b[39m1\u001b[39m) \u001b[39m*\u001b[39m \u001b[39m3\u001b[39m] \u001b[39mfor\u001b[39;00m model_num \u001b[39min\u001b[39;00m \u001b[39mrange\u001b[39m(line_num)]\n\u001b[0;32m--> 250\u001b[0m f1 \u001b[39m=\u001b[39m np\u001b[39m.\u001b[39madd\u001b[39m.\u001b[39mreduce([\u001b[39mself\u001b[39;49m\u001b[39m.\u001b[39;49mfunction(channel, thetas[model_num], sinc_width) \u001b[39mfor\u001b[39;00m model_num \u001b[39min\u001b[39;00m \u001b[39mrange\u001b[39m(line_num)])\n\u001b[1;32m    251\u001b[0m \u001b[39mreturn\u001b[39;00m np\u001b[39m.\u001b[39mreal(f1)\n",
      "File \u001b[0;32m~/Documents/LUCI/LUCI/LuciFunctions.py:219\u001b[0m, in \u001b[0;36mSincGauss.function\u001b[0;34m(self, channel, params, sinc_width)\u001b[0m\n\u001b[1;32m    217\u001b[0m dawson1 \u001b[39m=\u001b[39m sps\u001b[39m.\u001b[39mdawsn(np\u001b[39m.\u001b[39mcsingle(\u001b[39m1\u001b[39mj \u001b[39m*\u001b[39m a \u001b[39m+\u001b[39m b)[\u001b[39m0\u001b[39m]) \u001b[39m*\u001b[39m np\u001b[39m.\u001b[39mexp(\u001b[39m2.\u001b[39m \u001b[39m*\u001b[39m \u001b[39m1\u001b[39mj \u001b[39m*\u001b[39m a \u001b[39m*\u001b[39m b)\n\u001b[1;32m    218\u001b[0m dawson2 \u001b[39m=\u001b[39m sps\u001b[39m.\u001b[39mdawsn(np\u001b[39m.\u001b[39mcsingle(\u001b[39m1\u001b[39mj \u001b[39m*\u001b[39m a \u001b[39m-\u001b[39m b)[\u001b[39m0\u001b[39m])\u001b[39m*\u001b[39m np\u001b[39m.\u001b[39mexp(\u001b[39m-\u001b[39m\u001b[39m2.\u001b[39m \u001b[39m*\u001b[39m \u001b[39m1\u001b[39mj \u001b[39m*\u001b[39m a \u001b[39m*\u001b[39m b)\n\u001b[0;32m--> 219\u001b[0m dawson3 \u001b[39m=\u001b[39m \u001b[39m2.\u001b[39m \u001b[39m*\u001b[39m sps\u001b[39m.\u001b[39mdawsn(np\u001b[39m.\u001b[39;49mcsingle(\u001b[39m1\u001b[39;49mj \u001b[39m*\u001b[39;49m a)[\u001b[39m0\u001b[39;49m])\n\u001b[1;32m    220\u001b[0m \u001b[39mreturn\u001b[39;00m np\u001b[39m.\u001b[39mreal(p0\u001b[39m*\u001b[39m(dawson1 \u001b[39m+\u001b[39m dawson2)\u001b[39m/\u001b[39mdawson3)\n",
      "\u001b[0;31mIndexError\u001b[0m: invalid index to scalar variable."
     ]
    }
   ],
   "source": [
    "# Fit!\n",
    "axis, sky, fit_dict = cube.fit_pixel(\n",
    "    ['Halpha', 'NII6548', 'NII6583', 'SII6716', 'SII6731'],  # lines\n",
    "    'sincgauss',   # fit function\n",
    "    [1,1,1,1,1],  # velocity relationship \n",
    "    [1,1,1,1,1],  # sigma relationship\n",
    "    1250, 1045,    # x & y coordinate\n",
    "    bkg=bkg_sky, uncertainty_bool=True\n",
    ")"
   ]
  },
  {
   "cell_type": "markdown",
   "metadata": {},
   "source": [
    "And now we can plot the results"
   ]
  },
  {
   "cell_type": "code",
   "execution_count": null,
   "metadata": {},
   "outputs": [],
   "source": [
    "plt.plot(axis, sky, label='spectrum')\n",
    "plt.plot(axis, fit_dict['fit_vector'], label='fit', linestyle='--')\n",
    "plt.legend()\n",
    "plt.xlim(15000, 16000)"
   ]
  },
  {
   "cell_type": "markdown",
   "metadata": {},
   "source": [
    "And that is it! Congratulations, you have just used `LUCI`! "
   ]
  },
  {
   "cell_type": "code",
   "execution_count": null,
   "metadata": {},
   "outputs": [],
   "source": [
    "fit_dict['vels_errors']"
   ]
  },
  {
   "cell_type": "code",
   "execution_count": null,
   "metadata": {},
   "outputs": [],
   "source": [
    "fit_dict"
   ]
  },
  {
   "cell_type": "code",
   "execution_count": null,
   "metadata": {},
   "outputs": [],
   "source": []
  }
 ],
 "metadata": {
  "kernelspec": {
   "display_name": "Python 3.9.5 ('luci')",
   "language": "python",
   "name": "python3"
  },
  "language_info": {
   "codemirror_mode": {
    "name": "ipython",
    "version": 3
   },
   "file_extension": ".py",
   "mimetype": "text/x-python",
   "name": "python",
   "nbconvert_exporter": "python",
   "pygments_lexer": "ipython3",
   "version": "3.9.5"
  },
  "vscode": {
   "interpreter": {
    "hash": "11b69f77af28945abce268b9123fa11c04228dde655d6f5c915c14942660479f"
   }
  }
 },
 "nbformat": 4,
 "nbformat_minor": 4
}
