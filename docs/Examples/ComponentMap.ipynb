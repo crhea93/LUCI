{
 "cells": [
  {
   "cell_type": "markdown",
   "id": "6b0c36cc-e66f-43ae-8c9b-c26f0b2482c2",
   "metadata": {},
   "source": [
    "# Component Map\n",
    "In this notebook, we will explore how we can use `LUCI` to create a component map -- i.e. a map that indicates whether or not a region should be fit with 1 or 2 components. This is a direct translation of the paper https://arxiv.org/abs/2110.00569."
   ]
  },
  {
   "cell_type": "code",
   "execution_count": 1,
   "id": "dac806a0-d973-493b-b584-b79b9a1fdfc9",
   "metadata": {},
   "outputs": [
    {
     "name": "stderr",
     "output_type": "stream",
     "text": [
      "WARNING: Astrometry.net API key not found in configuration file [astroquery.astrometry_net.core]\n",
      "WARNING: You need to manually edit the configuration file and add it [astroquery.astrometry_net.core]\n",
      "WARNING: You may also register it for this session with AstrometryNet.key = 'XXXXXXXX' [astroquery.astrometry_net.core]\n"
     ]
    }
   ],
   "source": [
    "# Imports\n",
    "import sys\n",
    "sys.path.insert(0, '/home/carterrhea/Documents/LUCI/')  # Location of Luci\n",
    "from LuciBase import Luci\n",
    "import LUCI.LuciPlotting as lplt\n",
    "import matplotlib.pyplot as plt\n",
    "import numpy as np"
   ]
  },
  {
   "cell_type": "markdown",
   "id": "120ff975-e534-460a-ad40-f277442b6607",
   "metadata": {},
   "source": [
    "At this point you know where to get the data. But in case you forgot, you can download it here: "
   ]
  },
  {
   "cell_type": "code",
   "execution_count": 2,
   "id": "8c213b36-af8a-4d5b-a86d-a3b9a88be886",
   "metadata": {},
   "outputs": [],
   "source": [
    "# !wget -O Data/NGC628_SN3.hdf5  https://ws.cadc-ccda.hia-iha.nrc-cnrc.gc.ca/data/pub/CFHT/2307000z.hdf5?RUNID=xc9le6u8llecp7fp"
   ]
  },
  {
   "cell_type": "code",
   "execution_count": 3,
   "id": "a414e90d-1048-40aa-a2ab-00b1b9524588",
   "metadata": {},
   "outputs": [],
   "source": [
    "# Initialize paths and set parameters\n",
    "Luci_path = '/home/carterrhea/Documents/LUCI/'\n",
    "cube_dir = '/media/carterrhea/carterrhea/M33'  # Full path to data cube (example 2)\n",
    "cube_name = 'M33_Field7_SN3.merged.cm1.1.0'  # don't add .hdf5 extension\n",
    "object_name = 'M33'\n",
    "redshift = -0.0006 # Redshift of object\n",
    "resolution = 5000 # The actual resolution is 400, but we don't have ML algorithms for that resolution, so use 1000"
   ]
  },
  {
   "cell_type": "code",
   "execution_count": 4,
   "id": "2f3db878-bd17-4c4d-9c7a-cb2297b5e299",
   "metadata": {},
   "outputs": [
    {
     "name": "stderr",
     "output_type": "stream",
     "text": [
      "  0%|          | 0/9 [00:00<?, ?it/s]"
     ]
    },
    {
     "name": "stdout",
     "output_type": "stream",
     "text": [
      "Reading in data...\n"
     ]
    },
    {
     "name": "stderr",
     "output_type": "stream",
     "text": [
      "100%|██████████| 9/9 [01:58<00:00, 13.20s/it]\n"
     ]
    },
    {
     "name": "stdout",
     "output_type": "stream",
     "text": [
      "WARNING:tensorflow:SavedModel saved prior to TF 2.5 detected when loading Keras model. Please ensure that you are saving the model with model.save() or tf.keras.models.save_model(), *NOT* tf.saved_model.save(). To confirm, there should be a file named \"keras_metadata.pb\" in the SavedModel directory.\n"
     ]
    }
   ],
   "source": [
    "cube = Luci(Luci_path, cube_dir + '/' + cube_name, cube_dir, object_name, redshift, resolution)"
   ]
  },
  {
   "cell_type": "code",
   "execution_count": 5,
   "id": "dc9bb701-ccf5-4bfe-b8ea-edb0c607f2f8",
   "metadata": {},
   "outputs": [
    {
     "name": "stderr",
     "output_type": "stream",
     "text": [
      "100%|██████████| 2064/2064 [00:04<00:00, 438.46it/s]\n"
     ]
    }
   ],
   "source": [
    "bkg_axis, bkg_sky = cube.extract_spectrum_region(cube_dir+'/bkg.reg', mean=True)  # We use mean=True to take the mean of the emission in the region instead of the sum"
   ]
  },
  {
   "cell_type": "markdown",
   "id": "b20ecaf7-b82f-465d-8a4c-789af30bbb88",
   "metadata": {},
   "source": [
    "For illustrative purposes we are going to constrain the map to be between 1280<x<1380 and 1050<y<1150. I've included a deep image below with this region highlighted in green."
   ]
  },
  {
   "cell_type": "code",
   "execution_count": 7,
   "id": "5fb127f4-dcab-4605-b505-dc497c22c014",
   "metadata": {},
   "outputs": [
    {
     "name": "stderr",
     "output_type": "stream",
     "text": [
      "100%|██████████| 200/200 [04:35<00:00,  1.38s/it]\n"
     ]
    }
   ],
   "source": [
    "cube.create_component_map(x_min=1200, x_max=1400, y_min=1700, y_max=1900, bkg=bkg_sky, n_threads=2)"
   ]
  },
  {
   "cell_type": "code",
   "execution_count": null,
   "id": "bae34fb1-911f-4f93-9d94-7b5eb45e1b3e",
   "metadata": {},
   "outputs": [],
   "source": []
  }
 ],
 "metadata": {
  "kernelspec": {
   "display_name": "Python 3",
   "language": "python",
   "name": "python3"
  },
  "language_info": {
   "codemirror_mode": {
    "name": "ipython",
    "version": 3
   },
   "file_extension": ".py",
   "mimetype": "text/x-python",
   "name": "python",
   "nbconvert_exporter": "python",
   "pygments_lexer": "ipython3",
   "version": "3.9.5"
  }
 },
 "nbformat": 4,
 "nbformat_minor": 5
}
