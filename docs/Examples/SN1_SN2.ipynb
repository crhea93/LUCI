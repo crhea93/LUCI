{
 "cells": [
  {
   "cell_type": "markdown",
   "metadata": {},
   "source": [
    "# SN1 & SN2\n",
    "\n",
    "Fitting SN1 and SN2 cubes is very similar to fitting SN# cubes with one exception -- the machine learning algorithm used to estimate the velocity and broadening was trained on SN3, and, therefore, we cannot use it estimate these parameters in other data cubes. Thus, I have implemented another basic algorithm that will estimate the shift and broadening of the lines in SN1 and SN2.\n",
    "\n",
    "Let's start with importing `LUCI`. Just as described on the *readthedocs* page, we need to point our system path to our install location of the **LUCI** folder."
   ]
  },
  {
   "cell_type": "code",
   "execution_count": 1,
   "metadata": {},
   "outputs": [
    {
     "name": "stderr",
     "output_type": "stream",
     "text": [
      "WARNING: Astrometry.net API key not found in configuration file [astroquery.astrometry_net.core]\n",
      "WARNING: You need to manually edit the configuration file and add it [astroquery.astrometry_net.core]\n",
      "WARNING: You may also register it for this session with AstrometryNet.key = 'XXXXXXXX' [astroquery.astrometry_net.core]\n"
     ]
    }
   ],
   "source": [
    "# Imports\n",
    "import sys\n",
    "sys.path.insert(0, '/home/carterrhea/Documents/LUCI/')  # Location of Luci\n",
    "from LuciBase import Luci\n",
    "import LUCI.LuciPlotting as lplt\n",
    "import matplotlib.pyplot as plt\n",
    "import numpy as np"
   ]
  },
  {
   "cell_type": "markdown",
   "metadata": {},
   "source": [
    "We now will set the required parameters. We are also going to be using our machine learning algorithm to get the initial guesses."
   ]
  },
  {
   "cell_type": "code",
   "execution_count": null,
   "metadata": {},
   "outputs": [],
   "source": [
    "#Set Parameters\n",
    "# Using Machine Learning Algorithm for Initial Guess\n",
    "Luci_path = '/home/carterrhea/Documents/LUCI/'\n",
    "cube_dir = '/home/carterrhea/Documents/M33/SN1'  # Path to data cube\n",
    "cube_name = 'SN1_Field7'  # don't add .hdf5 extension\n",
    "object_name = 'M33_Field7'\n",
    "redshift = -0.0006  # Redshift of M33\n",
    "resolution = 1000"
   ]
  },
  {
   "cell_type": "code",
   "execution_count": null,
   "metadata": {},
   "outputs": [],
   "source": [
    "# Create Luci object\n",
    "cube = Luci(Luci_path, cube_dir+'/'+cube_name, cube_dir, object_name, redshift, resolution)"
   ]
  },
  {
   "cell_type": "markdown",
   "metadata": {},
   "source": [
    "Let's quickly create a deep frame"
   ]
  },
  {
   "cell_type": "code",
   "execution_count": null,
   "metadata": {},
   "outputs": [],
   "source": [
    "# Create Deep Image\n",
    "cube.create_deep_image()"
   ]
  },
  {
   "cell_type": "markdown",
   "metadata": {},
   "source": [
    "Let's extract a background region and take a look at it. The background region is defined in a ds9 region file."
   ]
  },
  {
   "cell_type": "code",
   "execution_count": null,
   "metadata": {},
   "outputs": [],
   "source": [
    "bkg_axis, bkg_sky = cube.extract_spectrum_region(cube_dir+'/bkg.reg', mean=True)  # We use mean=True to take the mean of the emission in the region instead of the sum\n",
    "plt.plot(bkg_axis, bkg_sky)"
   ]
  },
  {
   "cell_type": "markdown",
   "metadata": {},
   "source": [
    "We now fit part of our cube defined by the bounding box 1000<x<1500 and 250<y<750 with a Gaussian on the Halpha line, the NII-doublet, and the SII-doublet with a binning of 2. We will also tie all of our parameters together."
   ]
  },
  {
   "cell_type": "code",
   "execution_count": null,
   "metadata": {},
   "outputs": [],
   "source": [
    "# Fit!\n",
    "vel_map, broad_map, flux_map, chi2_fits = cube.fit_cube(['OII3726', 'OII3729'], 'gaussian', [1, 1], [1, 1], 500, 1100, 700, 1300, bkg=bkg_sky, binning=2)\n",
    "#vel_map, broad_map, flux_map, chi2_fits = cube.fit_cube(['OII3726'], 'gaussian', [1], [1], 1700, 1900, 1200, 1400, bkg=bkg_sky, binning=2, bayes_bool=True)"
   ]
  },
  {
   "cell_type": "markdown",
   "metadata": {},
   "source": [
    "Let's take a look at the flux map."
   ]
  },
  {
   "cell_type": "code",
   "execution_count": null,
   "metadata": {},
   "outputs": [],
   "source": [
    "lplt.plot_map(flux_map[:,:,0], 'flux', cube_dir, cube.header, clims=[1e-18, 3e-16])"
   ]
  },
  {
   "cell_type": "markdown",
   "metadata": {},
   "source": [
    "Let's now do the same with SN2"
   ]
  },
  {
   "cell_type": "code",
   "execution_count": 2,
   "metadata": {},
   "outputs": [],
   "source": [
    "#Set Parameters\n",
    "# Using Machine Learning Algorithm for Initial Guess\n",
    "Luci_path = '/home/carterrhea/Documents/LUCI/'\n",
    "cube_dir = '/home/carterrhea/Documents/M33/SN2'  # Path to data cube\n",
    "cube_name = 'SN2_Field7'  # don't add .hdf5 extension\n",
    "object_name = 'M33_Field7'\n",
    "redshift = -0.0006  # Redshift of M33\n",
    "resolution = 1000"
   ]
  },
  {
   "cell_type": "code",
   "execution_count": 3,
   "metadata": {},
   "outputs": [
    {
     "name": "stderr",
     "output_type": "stream",
     "text": [
      "  0%|          | 0/9 [00:00<?, ?it/s]"
     ]
    },
    {
     "name": "stdout",
     "output_type": "stream",
     "text": [
      "Reading in data...\n"
     ]
    },
    {
     "name": "stderr",
     "output_type": "stream",
     "text": [
      "100%|██████████| 9/9 [00:17<00:00,  1.94s/it]\n"
     ]
    }
   ],
   "source": [
    "# Create Luci object\n",
    "cube = Luci(Luci_path, cube_dir+'/'+cube_name, cube_dir, object_name, redshift, resolution)"
   ]
  },
  {
   "cell_type": "code",
   "execution_count": 4,
   "metadata": {},
   "outputs": [],
   "source": [
    "# Create Deep Image\n",
    "cube.create_deep_image()"
   ]
  },
  {
   "cell_type": "code",
   "execution_count": 5,
   "metadata": {},
   "outputs": [
    {
     "name": "stderr",
     "output_type": "stream",
     "text": [
      "100%|██████████| 2064/2064 [00:08<00:00, 246.87it/s]\n"
     ]
    },
    {
     "data": {
      "text/plain": [
       "[<matplotlib.lines.Line2D at 0x7f5929f87970>]"
      ]
     },
     "execution_count": 5,
     "metadata": {},
     "output_type": "execute_result"
    },
    {
     "data": {
      "image/png": "[encoded data removed]",
      "text/plain": [
       "<Figure size 432x288 with 1 Axes>"
      ]
     },
     "metadata": {
      "needs_background": "light"
     },
     "output_type": "display_data"
    }
   ],
   "source": [
    "bkg_axis, bkg_sky = cube.extract_spectrum_region(cube_dir+'/bkg.reg', mean=True)  # We use mean=True to take the mean of the emission in the region instead of the sum\n",
    "plt.plot(bkg_axis, bkg_sky)"
   ]
  },
  {
   "cell_type": "code",
   "execution_count": null,
   "metadata": {},
   "outputs": [
    {
     "name": "stderr",
     "output_type": "stream",
     "text": [
      " 34%|███▎      | 101/300 [07:51<14:47,  4.46s/it]"
     ]
    }
   ],
   "source": [
    "vel_map, broad_map, flux_map, chi2_fits = cube.fit_cube(['OIII4959', 'OIII5007', 'Hbeta'], 'gaussian', [1,1,1], [1,1,1], 500, 1100, 700, 1300, bkg=bkg_sky, binning=2)\n",
    "#vel_map, broad_map, flux_map, chi2_fits = cube.fit_cube(['OIII4959', 'OIII5007', 'Hbeta'], 'gaussian', [1,1,1], [1,1,1], 1200, 1400, 1700, 1900, bkg=bkg_sky, binning=2)"
   ]
  },
  {
   "cell_type": "code",
   "execution_count": null,
   "metadata": {},
   "outputs": [],
   "source": [
    "lplt.plot_map(np.log10(flux_map[:,:,2]), 'flux', cube_dir, cube.header, clims=[1e-20, 5e-19])"
   ]
  },
  {
   "cell_type": "code",
   "execution_count": null,
   "metadata": {},
   "outputs": [],
   "source": []
  }
 ],
 "metadata": {
  "kernelspec": {
   "display_name": "Python 3",
   "language": "python",
   "name": "python3"
  },
  "language_info": {
   "codemirror_mode": {
    "name": "ipython",
    "version": 3
   },
   "file_extension": ".py",
   "mimetype": "text/x-python",
   "name": "python",
   "nbconvert_exporter": "python",
   "pygments_lexer": "ipython3",
   "version": "3.9.5"
  }
 },
 "nbformat": 4,
 "nbformat_minor": 4
}
