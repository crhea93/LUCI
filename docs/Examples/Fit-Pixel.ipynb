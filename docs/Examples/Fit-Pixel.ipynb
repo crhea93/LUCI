{
 "cells": [
  {
   "cell_type": "markdown",
   "metadata": {},
   "source": [
    "# Fit Pixel\n",
    "\n",
    "In this notebook we will fit a single pixel in a data cube for NGC628."
   ]
  },
  {
   "cell_type": "markdown",
   "metadata": {},
   "source": [
    "#### * If you have not yet downloaded the sample data cube, uncomment the below cell and run and download the sample data cube.  \n",
    "This will save a 900MB file called `sample_data.hdf5` to the **`ExampleData`** directory in the **`LUCI`** folder. Do not be concerned if it takes a few minutes to download."
   ]
  },
  {
   "cell_type": "code",
   "execution_count": 1,
   "metadata": {},
   "outputs": [],
   "source": [
    "# !wget -O Data/NGC628_SN3.hdf5  https://ws.cadc-ccda.hia-iha.nrc-cnrc.gc.ca/data/pub/CFHT/2307000z.hdf5?RUNID=xc9le6u8llecp7fp"
   ]
  },
  {
   "cell_type": "code",
   "execution_count": 2,
   "metadata": {},
   "outputs": [
    {
     "name": "stderr",
     "output_type": "stream",
     "text": [
      "WARNING: Astrometry.net API key not found in configuration file [astroquery.astrometry_net.core]\n",
      "WARNING: You need to manually edit the configuration file and add it [astroquery.astrometry_net.core]\n",
      "WARNING: You may also register it for this session with AstrometryNet.key = 'XXXXXXXX' [astroquery.astrometry_net.core]\n"
     ]
    }
   ],
   "source": [
    "# Imports\n",
    "import os\n",
    "import sys\n",
    "\n",
    "import numpy as np\n",
    "import matplotlib.pyplot as plt\n",
    "\n",
    "# Get location of LUCI \n",
    "path = os.path.abspath(os.path.pardir)  \n",
    "sys.path.insert(0, path)  # add LUCI to the available paths\n",
    "\n",
    "from LuciBase import Luci\n",
    "\n",
    "%config Completer.use_jedi=False  # enable autocompletion when typing in Jupyter notebooks"
   ]
  },
  {
   "cell_type": "markdown",
   "metadata": {},
   "source": [
    "Set the required parameters. We will be using our machine learning algorithm to get the initial guesses - this happens under the hood in `LuciFit`, so that the user is not required to think about the initial guess"
   ]
  },
  {
   "cell_type": "code",
   "execution_count": 3,
   "metadata": {},
   "outputs": [],
   "source": [
    "# Initialize paths and set parameters\n",
    "Luci_path = path\n",
    "cube_dir = '/media/carterrhea/carterrhea/NGC628'  # Full path to data cube\n",
    "cube_name = 'NGC628_SN3.merged.cm1.1.0'  # don't add .hdf5 extension\n",
    "object_name = 'NGC628'\n",
    "redshift = 0.000133  # Redshift of object\n",
    "resolution = 1000 # The actual resolution is 400, but we don't have ML algorithms for that resolution, so use 1000"
   ]
  },
  {
   "cell_type": "markdown",
   "metadata": {},
   "source": [
    "Intialize our LUCI object"
   ]
  },
  {
   "cell_type": "code",
   "execution_count": 4,
   "metadata": {},
   "outputs": [
    {
     "name": "stderr",
     "output_type": "stream",
     "text": [
      "  0%|          | 0/9 [00:00<?, ?it/s]"
     ]
    },
    {
     "name": "stdout",
     "output_type": "stream",
     "text": [
      "We have added a trailing '/' to your Luci_path variable.\n",
      "\n",
      "Please add this in the future.\n",
      "\n",
      "Reading in data...\n"
     ]
    },
    {
     "name": "stderr",
     "output_type": "stream",
     "text": [
      "100%|██████████| 9/9 [00:29<00:00,  3.24s/it]\n"
     ]
    },
    {
     "name": "stdout",
     "output_type": "stream",
     "text": [
      "WARNING:tensorflow:SavedModel saved prior to TF 2.5 detected when loading Keras model. Please ensure that you are saving the model with model.save() or tf.keras.models.save_model(), *NOT* tf.saved_model.save(). To confirm, there should be a file named \"keras_metadata.pb\" in the SavedModel directory.\n"
     ]
    }
   ],
   "source": [
    "cube = Luci(Luci_path, cube_dir + '/' + cube_name, cube_dir, object_name, redshift, resolution)"
   ]
  },
  {
   "cell_type": "markdown",
   "metadata": {},
   "source": [
    "Create a deep frame"
   ]
  },
  {
   "cell_type": "markdown",
   "metadata": {},
   "source": [
    "Let's extract a background region and take a look at it. The background region is defined in a ds9 region file in the `ExampleData` folder."
   ]
  },
  {
   "cell_type": "code",
   "execution_count": 5,
   "metadata": {},
   "outputs": [
    {
     "name": "stderr",
     "output_type": "stream",
     "text": [
      "100%|██████████| 2064/2064 [00:04<00:00, 445.22it/s]\n"
     ]
    }
   ],
   "source": [
    "# We use 'mean = True' to take the mean of the emission in the region instead of the sum\n",
    "bkg_axis, bkg_sky = cube.extract_spectrum_region(cube_dir+'/bkg.reg', mean=True)"
   ]
  },
  {
   "cell_type": "markdown",
   "metadata": {},
   "source": [
    "We will now fit a single pixel and take a look at the fit. This fit commands has all the same options as all the other commands except for binning :)"
   ]
  },
  {
   "cell_type": "code",
   "execution_count": 6,
   "metadata": {},
   "outputs": [],
   "source": [
    "# Fit!\n",
    "axis, sky, fit_dict = cube.fit_pixel(\n",
    "    ['Halpha', 'NII6548', 'NII6583', 'SII6716', 'SII6731'],  # lines\n",
    "    'sincgauss',   # fit function\n",
    "    [1,1,1,1,1],  # velocity relationship \n",
    "    [1,1,1,1,1],  # sigma relationship\n",
    "    1250, 1045,    # x & y coordinate\n",
    "    bkg=bkg_sky \n",
    ")"
   ]
  },
  {
   "cell_type": "markdown",
   "metadata": {},
   "source": [
    "And now we can plot the results"
   ]
  },
  {
   "cell_type": "code",
   "execution_count": 7,
   "metadata": {},
   "outputs": [
    {
     "data": {
      "text/plain": [
       "(15000.0, 16000.0)"
      ]
     },
     "execution_count": 7,
     "metadata": {},
     "output_type": "execute_result"
    },
    {
     "data": {
      "image/png": "[encoded data removed]",
      "text/plain": [
       "<Figure size 432x288 with 1 Axes>"
      ]
     },
     "metadata": {
      "needs_background": "light"
     },
     "output_type": "display_data"
    }
   ],
   "source": [
    "plt.plot(axis, sky, label='spectrum')\n",
    "plt.plot(axis, fit_dict['fit_vector'], label='fit', linestyle='--')\n",
    "plt.legend()\n",
    "plt.xlim(15000, 16000)"
   ]
  },
  {
   "cell_type": "markdown",
   "metadata": {},
   "source": [
    "And that is it! Congratulations, you have just used `LUCI`! "
   ]
  },
  {
   "cell_type": "code",
   "execution_count": 8,
   "metadata": {},
   "outputs": [
    {
     "data": {
      "text/plain": [
       "{'fit_sol': array([7.72166826e-17, 1.52245726e+04, 2.06323121e+00, 3.37104320e-18,\n",
       "        1.51769106e+04, 2.06323121e+00, 1.01131296e-17, 1.52589138e+04,\n",
       "        2.06323121e+00, 1.92882990e-18, 1.48762408e+04, 2.06323121e+00,\n",
       "        6.21337719e-21, 1.48444588e+04, 2.06323121e+00, 3.15014419e-18]),\n",
       " 'fit_uncertainties': array([0., 0., 0., 0., 0., 0., 0., 0., 0., 0., 0., 0., 0., 0., 0., 0.]),\n",
       " 'amplitudes': [7.721668257178447e-17,\n",
       "  3.3710432007691866e-18,\n",
       "  1.011312960230756e-17,\n",
       "  1.9288298980891875e-18,\n",
       "  6.213377194993195e-21],\n",
       " 'fluxes': [1.7117602553679425e-15,\n",
       "  7.473019531550791e-17,\n",
       "  2.241905859465237e-16,\n",
       "  4.2758821655476465e-17,\n",
       "  1.3773982227365597e-19],\n",
       " 'flux_errors': [0.0, 0.0, 0.0, 0.0, 0.0],\n",
       " 'chi2': 126259.27377624525,\n",
       " 'velocities': [252.73702512275312,\n",
       "  1875.0481379281212,\n",
       "  -1360.855601781309,\n",
       "  252.73702514818547,\n",
       "  252.73702512689158],\n",
       " 'sigmas': [40.6559433068978,\n",
       "  40.78362036418429,\n",
       "  40.564444513298355,\n",
       "  41.60791484465518,\n",
       "  41.696997624068516],\n",
       " 'vels_errors': [0.0, 0.0, 0.0, 0.0, 0.0],\n",
       " 'sigmas_errors': [0.0, 0.0, 0.0, 0.0, 0.0],\n",
       " 'axis_step': 6.954210543704335,\n",
       " 'corr': 1.0377737429565317,\n",
       " 'continuum': 3.1501441859688293e-18,\n",
       " 'scale': 7.579545123080169e-17,\n",
       " 'vel_ml': 240.97280883789062,\n",
       " 'vel_ml_sigma': 0,\n",
       " 'broad_ml': 44.07170104980469,\n",
       " 'broad_ml_sigma': 0,\n",
       " 'fit_vector': array([ 3.0103057e-18,  3.2742679e-18,  3.0877294e-18,  3.1268788e-18,\n",
       "         3.2517491e-18,  3.0065716e-18,  3.2833369e-18,  3.0766757e-18,\n",
       "         3.1359217e-18,  3.2482024e-18,  3.0032076e-18,  3.2924899e-18,\n",
       "         3.0650460e-18,  3.1457265e-18,  3.2439240e-18,  3.0002298e-18,\n",
       "         3.3017255e-18,  3.0528682e-18,  3.1562768e-18,  3.2388720e-18,\n",
       "         2.9976934e-18,  3.3110456e-18,  3.0401080e-18,  3.1677618e-18,\n",
       "         3.2330028e-18,  2.9956220e-18,  3.3204450e-18,  3.0267159e-18,\n",
       "         3.1801831e-18,  3.2263082e-18,  2.9940474e-18,  3.3299715e-18,\n",
       "         3.0126377e-18,  3.1936234e-18,  3.2185908e-18,  2.9929895e-18,\n",
       "         3.3396400e-18,  2.9978365e-18,  3.2081880e-18,  3.2098301e-18,\n",
       "         2.9924255e-18,  3.3495010e-18,  2.9820982e-18,  3.2240123e-18,\n",
       "         3.1999201e-18,  2.9924636e-18,  3.3596449e-18,  2.9653000e-18,\n",
       "         3.2411954e-18,  3.1887540e-18,  2.9930565e-18,  3.3702362e-18,\n",
       "         2.9471978e-18,  3.2601572e-18,  3.1761777e-18,  2.9941529e-18,\n",
       "         3.3815110e-18,  2.9273924e-18,  3.2812057e-18,  3.1621057e-18,\n",
       "         2.9956089e-18,  3.3939694e-18,  2.9052128e-18,  3.3049828e-18,\n",
       "         3.1460791e-18,  2.9970590e-18,  3.4086527e-18,  2.8791527e-18,\n",
       "         3.3327494e-18,  3.1277976e-18,  2.9973485e-18,  3.4281615e-18,\n",
       "         2.8456516e-18,  3.3676345e-18,  3.1063378e-18,  2.9933216e-18,\n",
       "         3.4611387e-18,  2.7925624e-18,  3.4298575e-18,  3.0794640e-18,\n",
       "         2.9629202e-18,  3.5780657e-18,  2.5576536e-18,  3.9825810e-18,\n",
       "         4.9805595e-18,  3.6370536e-18,  3.1244022e-18,  2.9933193e-18,\n",
       "         3.3553455e-18,  3.0207747e-18,  3.1236557e-18,  3.3418250e-18,\n",
       "         2.8569052e-18,  3.4338681e-18,  2.9907621e-18,  3.1126928e-18,\n",
       "         3.3835616e-18,  2.7980923e-18,  3.4927151e-18,  2.9490767e-18,\n",
       "         3.1243385e-18,  3.4061730e-18,  2.7478357e-18,  3.5542015e-18,\n",
       "         2.8975591e-18,  3.1465425e-18,  3.4235027e-18,  2.6948938e-18,\n",
       "         3.6256914e-18,  2.8331877e-18,  3.1785232e-18,  3.4391386e-18,\n",
       "         2.6332554e-18,  3.7138126e-18,  2.7506344e-18,  3.2227083e-18,\n",
       "         3.4553257e-18,  2.5560582e-18,  3.8283499e-18,  2.6399391e-18,\n",
       "         3.2844290e-18,  3.4743302e-18,  2.4525591e-18,  3.9864882e-18,\n",
       "         2.4838100e-18,  3.3731065e-18,  3.5010097e-18,  2.3007584e-18,\n",
       "         4.2220779e-18,  2.2495154e-18,  3.5030516e-18,  3.5561359e-18,\n",
       "         2.0439269e-18,  4.6027539e-18,  1.9230777e-18,  3.5103283e-18,\n",
       "         4.4664742e-18,  4.9195657e-18,  6.7579324e-18, -1.5547894e-19,\n",
       "         5.3901339e-18,  3.1287710e-18, -5.2639706e-21,  1.0070170e-17,\n",
       "        -8.0340488e-18,  2.6175838e-17,  8.0573645e-17,  2.6471955e-17,\n",
       "        -8.6514010e-18,  1.1056774e-17, -1.4656600e-18,  6.1394946e-18,\n",
       "         1.5438739e-17,  3.1791456e-18,  4.3623285e-18,  2.4792419e-18,\n",
       "         2.9167083e-18,  4.1781170e-18,  1.7353960e-18,  4.4434170e-18,\n",
       "         2.3968191e-18,  3.1683050e-18,  3.7951717e-18,  2.1293503e-18,\n",
       "         4.1597085e-18,  2.4982956e-18,  3.2515399e-18,  3.5857237e-18,\n",
       "         2.3741264e-18,  3.9681550e-18,  2.5793092e-18,  3.2923248e-18,\n",
       "         3.4552951e-18,  2.5367115e-18,  3.8349210e-18,  2.6404589e-18,\n",
       "         3.3160318e-18,  3.3656360e-18,  2.6527395e-18,  3.7367603e-18,\n",
       "         2.6877309e-18,  3.3310499e-18,  3.3001092e-18,  2.7400482e-18,\n",
       "         3.6608876e-18,  2.7258203e-18,  3.3407753e-18,  3.2500135e-18,\n",
       "         2.8087588e-18,  3.5999599e-18,  2.7575577e-18,  3.3473989e-18,\n",
       "         3.2104253e-18,  2.8644830e-18,  3.5495557e-18,  2.7847732e-18,\n",
       "         3.3516786e-18,  3.1785337e-18,  2.9108202e-18,  3.5067545e-18,\n",
       "         2.8086781e-18,  3.3542238e-18,  3.1520749e-18,  2.9501177e-18,\n",
       "         3.4696963e-18,  2.8301418e-18,  3.3554036e-18,  3.1299429e-18,\n",
       "         2.9838650e-18,  3.4370703e-18,  2.8496492e-18,  3.3554842e-18,\n",
       "         3.1112544e-18,  3.0134368e-18,  3.4079568e-18,  2.8676716e-18,\n",
       "         3.3545522e-18,  3.0953620e-18,  3.0395153e-18,  3.3817402e-18,\n",
       "         2.8845111e-18,  3.3529359e-18,  3.0817873e-18,  3.0627117e-18,\n",
       "         3.3578073e-18,  2.9003928e-18,  3.3506328e-18,  3.0702850e-18,\n",
       "         3.0834683e-18,  3.3358333e-18,  2.9154783e-18,  3.3477219e-18,\n",
       "         3.0603594e-18,  3.1021479e-18,  3.3155275e-18,  2.9299027e-18,\n",
       "         3.3442732e-18,  3.0519149e-18,  3.1189288e-18,  3.2966708e-18,\n",
       "         2.9437606e-18,  3.3403005e-18,  3.0447693e-18,  3.1342124e-18,\n",
       "         3.2790904e-18,  2.9571289e-18,  3.3359340e-18,  3.0387824e-18,\n",
       "         3.1480772e-18,  3.2627085e-18,  2.9700627e-18,  3.3311717e-18,\n",
       "         3.0339068e-18,  3.1606706e-18,  3.2472820e-18,  2.9825990e-18,\n",
       "         3.3260504e-18,  3.0299117e-18,  3.1720956e-18,  3.2327879e-18,\n",
       "         2.9947439e-18,  3.3206024e-18,  3.0267831e-18,  3.1823849e-18,\n",
       "         3.2191512e-18,  3.0065821e-18,  3.3148610e-18,  3.0244469e-18,\n",
       "         3.1917647e-18,  3.2063140e-18,  3.0181039e-18,  3.3088540e-18,\n",
       "         3.0228478e-18,  3.2002241e-18,  3.1942899e-18,  3.0293132e-18,\n",
       "         3.3026172e-18,  3.0219292e-18,  3.2078381e-18,  3.1829095e-18,\n",
       "         3.0402211e-18,  3.2961712e-18,  3.0216641e-18,  3.2146476e-18,\n",
       "         3.1722054e-18,  3.0507840e-18,  3.2895420e-18,  3.0219528e-18,\n",
       "         3.2206895e-18,  3.1621429e-18,  3.0611014e-18,  3.2827535e-18,\n",
       "         3.0227810e-18,  3.2259668e-18,  3.1527110e-18,  3.0711181e-18,\n",
       "         3.2758534e-18,  3.0241157e-18,  3.2306213e-18,  3.1438716e-18,\n",
       "         3.0808414e-18,  3.2688255e-18,  3.0259197e-18,  3.2346244e-18,\n",
       "         3.1356769e-18,  3.0902531e-18,  3.2617140e-18,  3.0281659e-18,\n",
       "         3.2380134e-18,  3.1279849e-18,  3.0993630e-18,  3.2545411e-18,\n",
       "         3.0308038e-18,  3.2408089e-18,  3.1208495e-18,  3.1081140e-18,\n",
       "         3.2473231e-18,  3.0338144e-18,  3.2430185e-18,  3.1142558e-18,\n",
       "         3.1165953e-18,  3.2400894e-18,  3.0371671e-18], dtype=float32),\n",
       " 'fit_axis': array([14407.898 , 14413.491 , 14419.085 , 14424.678 , 14430.2705,\n",
       "        14435.864 , 14441.457 , 14447.05  , 14452.644 , 14458.236 ,\n",
       "        14463.83  , 14469.423 , 14475.016 , 14480.609 , 14486.202 ,\n",
       "        14491.795 , 14497.389 , 14502.981 , 14508.574 , 14514.168 ,\n",
       "        14519.761 , 14525.3545, 14530.947 , 14536.54  , 14542.134 ,\n",
       "        14547.727 , 14553.319 , 14558.913 , 14564.506 , 14570.099 ,\n",
       "        14575.692 , 14581.285 , 14586.879 , 14592.472 , 14598.064 ,\n",
       "        14603.658 , 14609.251 , 14614.844 , 14620.4375, 14626.03  ,\n",
       "        14631.623 , 14637.217 , 14642.81  , 14648.403 , 14653.996 ,\n",
       "        14659.589 , 14665.183 , 14670.775 , 14676.368 , 14681.962 ,\n",
       "        14687.555 , 14693.147 , 14698.741 , 14704.334 , 14709.928 ,\n",
       "        14715.5205, 14721.113 , 14726.707 , 14732.3   , 14737.893 ,\n",
       "        14743.486 , 14749.079 , 14754.672 , 14760.266 , 14765.858 ,\n",
       "        14771.452 , 14777.045 , 14782.638 , 14788.231 , 14793.824 ,\n",
       "        14799.417 , 14805.011 , 14810.604 , 14816.196 , 14821.79  ,\n",
       "        14827.383 , 14832.977 , 14838.569 , 14844.162 , 14849.756 ,\n",
       "        14855.349 , 14860.941 , 14866.535 , 14872.128 , 14877.721 ,\n",
       "        14883.314 , 14888.907 , 14894.501 , 14900.094 , 14905.687 ,\n",
       "        14911.28  , 14916.873 , 14922.466 , 14928.06  , 14933.652 ,\n",
       "        14939.245 , 14944.839 , 14950.432 , 14956.025 , 14961.618 ,\n",
       "        14967.211 , 14972.805 , 14978.397 , 14983.99  , 14989.584 ,\n",
       "        14995.177 , 15000.77  , 15006.363 , 15011.956 , 15017.55  ,\n",
       "        15023.143 , 15028.735 , 15034.329 , 15039.922 , 15045.515 ,\n",
       "        15051.108 , 15056.701 , 15062.294 , 15067.888 , 15073.48  ,\n",
       "        15079.074 , 15084.667 , 15090.26  , 15095.854 , 15101.446 ,\n",
       "        15107.039 , 15112.633 , 15118.226 , 15123.818 , 15129.412 ,\n",
       "        15135.005 , 15140.599 , 15146.191 , 15151.784 , 15157.378 ,\n",
       "        15162.971 , 15168.563 , 15174.157 , 15179.75  , 15185.343 ,\n",
       "        15190.937 , 15196.529 , 15202.123 , 15207.716 , 15213.309 ,\n",
       "        15218.902 , 15224.495 , 15230.088 , 15235.682 , 15241.274 ,\n",
       "        15246.867 , 15252.461 , 15258.054 , 15263.647 , 15269.24  ,\n",
       "        15274.833 , 15280.427 , 15286.02  , 15291.612 , 15297.206 ,\n",
       "        15302.799 , 15308.392 , 15313.985 , 15319.578 , 15325.172 ,\n",
       "        15330.765 , 15336.357 , 15341.951 , 15347.544 , 15353.137 ,\n",
       "        15358.73  , 15364.323 , 15369.916 , 15375.51  , 15381.103 ,\n",
       "        15386.695 , 15392.289 , 15397.882 , 15403.476 , 15409.068 ,\n",
       "        15414.661 , 15420.255 , 15425.848 , 15431.44  , 15437.034 ,\n",
       "        15442.627 , 15448.22  , 15453.813 , 15459.406 , 15465.    ,\n",
       "        15470.593 , 15476.186 , 15481.779 , 15487.372 , 15492.965 ,\n",
       "        15498.559 , 15504.151 , 15509.744 , 15515.338 , 15520.931 ,\n",
       "        15526.524 , 15532.117 , 15537.71  , 15543.304 , 15548.896 ,\n",
       "        15554.489 , 15560.083 , 15565.676 , 15571.269 , 15576.862 ,\n",
       "        15582.455 , 15588.049 , 15593.642 , 15599.234 , 15604.828 ,\n",
       "        15610.421 , 15616.014 , 15621.607 , 15627.2   , 15632.793 ,\n",
       "        15638.387 , 15643.9795, 15649.573 , 15655.166 , 15660.759 ,\n",
       "        15666.353 , 15671.945 , 15677.538 , 15683.132 , 15688.725 ,\n",
       "        15694.317 , 15699.911 , 15705.504 , 15711.098 , 15716.69  ,\n",
       "        15722.283 , 15727.877 , 15733.47  , 15739.0625, 15744.656 ,\n",
       "        15750.249 , 15755.842 , 15761.436 , 15767.028 , 15772.622 ,\n",
       "        15778.215 , 15783.808 , 15789.401 , 15794.994 , 15800.587 ,\n",
       "        15806.181 , 15811.773 , 15817.366 , 15822.96  , 15828.553 ,\n",
       "        15834.146 , 15839.739 , 15845.332 , 15850.926 , 15856.519 ,\n",
       "        15862.111 , 15867.705 , 15873.298 , 15878.891 , 15884.484 ,\n",
       "        15890.077 , 15895.671 , 15901.264 , 15906.856 , 15912.45  ,\n",
       "        15918.043 , 15923.636 , 15929.2295, 15934.822 , 15940.415 ,\n",
       "        15946.009 , 15951.602 , 15957.195 , 15962.788 , 15968.381 ,\n",
       "        15973.975 , 15979.567 , 15985.16  , 15990.754 , 15996.347 ,\n",
       "        16001.939 , 16007.533 , 16013.126 , 16018.72  , 16024.3125,\n",
       "        16029.905 , 16035.499 , 16041.092 , 16046.685 , 16052.278 ,\n",
       "        16057.871 , 16063.464 , 16069.058 , 16074.65  , 16080.244 ,\n",
       "        16085.837 , 16091.43  , 16097.023 , 16102.616 , 16108.209 ,\n",
       "        16113.803 , 16119.3955, 16124.988 , 16130.582 , 16136.175 ,\n",
       "        16141.769 , 16147.361 , 16152.954 , 16158.548 , 16164.141 ,\n",
       "        16169.733 , 16175.327 , 16180.92  , 16186.513 , 16192.106 ,\n",
       "        16197.699 , 16203.293 , 16208.886 ], dtype=float32)}"
      ]
     },
     "execution_count": 8,
     "metadata": {},
     "output_type": "execute_result"
    }
   ],
   "source": [
    "fit_dict"
   ]
  },
  {
   "cell_type": "code",
   "execution_count": null,
   "metadata": {},
   "outputs": [],
   "source": []
  }
 ],
 "metadata": {
  "kernelspec": {
   "display_name": "Python 3",
   "language": "python",
   "name": "python3"
  },
  "language_info": {
   "codemirror_mode": {
    "name": "ipython",
    "version": 3
   },
   "file_extension": ".py",
   "mimetype": "text/x-python",
   "name": "python",
   "nbconvert_exporter": "python",
   "pygments_lexer": "ipython3",
   "version": "3.9.5"
  }
 },
 "nbformat": 4,
 "nbformat_minor": 4
}
