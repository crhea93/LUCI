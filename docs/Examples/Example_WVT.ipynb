{
 "cells": [
  {
   "cell_type": "markdown",
   "id": "a994abd6",
   "metadata": {},
   "source": [
    "One the new feature added to the fitting procedure of Luci is a weighted Voronoï tessellation. We will describe here an example to showcase this method for your own data analysis.\n",
    "\n",
    "You can download the example data using the following command:"
   ]
  },
  {
   "cell_type": "markdown",
   "id": "814eb63d-a2a7-455a-bfc3-1a4865079a49",
   "metadata": {},
   "source": [
    "`wget -O NGC1275_SN3.hdf5 https://ws.cadc-ccda.hia-iha.nrc-cnrc.gc.ca/data/pub/CFHT/2473289z.hdf5`"
   ]
  },
  {
   "cell_type": "markdown",
   "id": "ff9a0896",
   "metadata": {},
   "source": [
    "This will download the hdf5 file for SN3 (R~400) NGC 6946. The file is just under 900 Mb, so the download may take a while. Note you may need to change the name of the HDF5 file to NGC6946_SN3.merged.cm1.1.0.\n",
    "\n",
    "The region files used in the examples can be found in the ‘Examples/regions’ folder. To run the examples, place these region files in the same directory as the hdf5 file.\n",
    "\n",
    "First, we will import the appropriate modules:"
   ]
  },
  {
   "cell_type": "code",
   "execution_count": 1,
   "id": "a5d85f0d",
   "metadata": {},
   "outputs": [
    {
     "name": "stderr",
     "output_type": "stream",
     "text": [
      "2022-06-09 17:23:19.781240: W tensorflow/stream_executor/platform/default/dso_loader.cc:64] Could not load dynamic library 'libcudart.so.11.0'; dlerror: libcudart.so.11.0: cannot open shared object file: No such file or directory\n",
      "2022-06-09 17:23:19.781266: I tensorflow/stream_executor/cuda/cudart_stub.cc:29] Ignore above cudart dlerror if you do not have a GPU set up on your machine.\n"
     ]
    }
   ],
   "source": [
    "# Imports\n",
    "import sys\n",
    "sys.path.insert(0, '/home/carterrhea/Documents/LUCI/')\n",
    "from LuciBase import Luci\n",
    "import matplotlib.pyplot as plt\n",
    "import numpy as np\n",
    "import LUCI.LuciPlotting as lplt\n",
    "from astropy.io import fits\n",
    "from astropy.wcs import WCS\n",
    "from matplotlib import cm\n",
    "from matplotlib.colors import LogNorm"
   ]
  },
  {
   "cell_type": "markdown",
   "id": "365d9a62",
   "metadata": {},
   "source": [
    "The next step is to load/read the HDF5 data cube. To do this we invoke LUCI by initiating an instance of her along with the proper parameters. First we define the correct parameters:"
   ]
  },
  {
   "cell_type": "code",
   "execution_count": 2,
   "id": "0edb10df",
   "metadata": {},
   "outputs": [],
   "source": [
    "#Set Parameters\n",
    "# Using Machine Learning Algorithm for Initial Guess\n",
    "Luci_path = '/home/carterrhea/Documents/LUCI/'\n",
    "cube_dir = '/mnt/carterrhea/carterrhea/M33'  # Path to data cube\n",
    "cube_name = 'M33_Field7_SN3.merged.cm1.1.0'  # don't add .hdf5 extension\n",
    "object_name = 'M33_Field7'\n",
    "redshift = -0.00006  # Redshift of M33\n",
    "resolution = 5000"
   ]
  },
  {
   "cell_type": "markdown",
   "id": "e5a82531",
   "metadata": {},
   "source": [
    "From there we will load the HDF5 cube following this command as usual."
   ]
  },
  {
   "cell_type": "code",
   "execution_count": 3,
   "id": "cc28afb2",
   "metadata": {},
   "outputs": [
    {
     "name": "stdout",
     "output_type": "stream",
     "text": [
      "Reading in data...\n"
     ]
    },
    {
     "name": "stderr",
     "output_type": "stream",
     "text": [
      "100%|█████████████████████████████████████████████| 9/9 [00:27<00:00,  3.09s/it]"
     ]
    },
    {
     "name": "stdout",
     "output_type": "stream",
     "text": [
      "413 873\n",
      "WARNING:tensorflow:SavedModel saved prior to TF 2.5 detected when loading Keras model. Please ensure that you are saving the model with model.save() or tf.keras.models.save_model(), *NOT* tf.saved_model.save(). To confirm, there should be a file named \"keras_metadata.pb\" in the SavedModel directory.\n"
     ]
    },
    {
     "name": "stderr",
     "output_type": "stream",
     "text": [
      "\n",
      "2022-06-09 17:23:51.074734: W tensorflow/stream_executor/platform/default/dso_loader.cc:64] Could not load dynamic library 'libcuda.so.1'; dlerror: libcuda.so.1: cannot open shared object file: No such file or directory\n",
      "2022-06-09 17:23:51.074779: W tensorflow/stream_executor/cuda/cuda_driver.cc:269] failed call to cuInit: UNKNOWN ERROR (303)\n",
      "2022-06-09 17:23:51.074799: I tensorflow/stream_executor/cuda/cuda_diagnostics.cc:156] kernel driver does not appear to be running on this host (pop-os): /proc/driver/nvidia/version does not exist\n",
      "2022-06-09 17:23:51.075011: I tensorflow/core/platform/cpu_feature_guard.cc:151] This TensorFlow binary is optimized with oneAPI Deep Neural Network Library (oneDNN) to use the following CPU instructions in performance-critical operations:  AVX2 FMA\n",
      "To enable them in other operations, rebuild TensorFlow with the appropriate compiler flags.\n"
     ]
    }
   ],
   "source": [
    "cube = Luci(Luci_path, cube_dir+'/'+cube_name, cube_dir, object_name, redshift, resolution)"
   ]
  },
  {
   "cell_type": "markdown",
   "id": "ea2e0c90",
   "metadata": {},
   "source": [
    "And extract a background region."
   ]
  },
  {
   "cell_type": "code",
   "execution_count": 4,
   "id": "96311db3",
   "metadata": {},
   "outputs": [
    {
     "name": "stderr",
     "output_type": "stream",
     "text": [
      "100%|█████████████████████████████████████| 2064/2064 [00:00<00:00, 3255.32it/s]\n"
     ]
    }
   ],
   "source": [
    "bkg_axis, bkg_sky = cube.extract_spectrum_region(cube_dir+'/bkg.reg', mean=True)  # We use mean=True to take the mean of the emission in the region instead of the sum"
   ]
  },
  {
   "cell_type": "markdown",
   "id": "370ac804",
   "metadata": {},
   "source": [
    "Now we can call the wvt_fit_region function that will create the weighted Voronoï region and fit the bins to produce the maps we need."
   ]
  },
  {
   "cell_type": "code",
   "execution_count": null,
   "id": "50c5c166",
   "metadata": {},
   "outputs": [
    {
     "name": "stdout",
     "output_type": "stream",
     "text": [
      "#----------------WVT Algorithm----------------#\n",
      "#----------------Creating SNR Map--------------#\n"
     ]
    },
    {
     "name": "stderr",
     "output_type": "stream",
     "text": [
      "100%|███████████████████████████████████████| 1900/1900 [39:43<00:00,  1.25s/it]\n"
     ]
    },
    {
     "name": "stdout",
     "output_type": "stream",
     "text": [
      "#----------------Algorithm Part 1----------------#\n",
      "/home/carterrhea/Documents/LUCI/Examples\n",
      "We have 3610000 Pixels! :)\n",
      "Running Nearest Neighbor Algorithm\n",
      "Finished Nearest Neighbor Algorithm\n",
      "Starting Bin Accretion Algorithm\n"
     ]
    }
   ],
   "source": [
    "cube.wvt_fit_region(100, 2000, 100, 2000,\n",
    "                ['NII6548', 'Halpha', 'NII6583'], \n",
    "                'sincgauss',\n",
    "                [1,1,1],\n",
    "                [1,1,1],\n",
    "                stn_target = 10,\n",
    "                bkg=bkg_sky,\n",
    "                bayes_bool=False, \n",
    "                uncertainty_bool=False, \n",
    "                n_threads=1)"
   ]
  },
  {
   "cell_type": "markdown",
   "id": "8d0a90e6",
   "metadata": {},
   "source": [
    "As we can see there are many arguments in this function. Let's go through them one by one to make sure we use them correctly.\n",
    "\n",
    "The first four arguments correspond to the position of the region we want to fit in the cube.\n",
    "\n",
    "The fifth argument refers to the emission lines we want to fit.\n",
    "\n",
    "'sincgauss' is the fitting function to be used.\n",
    "\n",
    "The next two arguments describes the relational constraints between the lines. For example, if we are fitting three lines and we want the velocities of the second and third lines to be tied to one another, we would simply set vel_rel=[1,2,2]. If we wanted all the lines tied, then we would put [1,1,1]. The sigma_rel parameter functions in the exact same way except it affects the broadening (velocity dispersion) of the lines.\n",
    "\n",
    "The stn_target parameter determines the signal to noise value that will act as a threshold to create the Voronoï tessels.\n",
    "\n",
    "We then pass the background we want to subtract, as well as the Boolean parameters to determine whether or not to run Bayesian and uncertainty analysis.\n",
    "\n",
    "The n_threads argument determines the number of threads used for the paralelization of the function, which accelerates the whole process."
   ]
  },
  {
   "cell_type": "markdown",
   "id": "3ccc2093-8f70-46ae-9f6a-e6105ac2d91b",
   "metadata": {},
   "source": [
    "### Outputs\n",
    "The outputs will be in their usual locations (`Luci_outputs/...`) and will have `_wvt` in their names :D"
   ]
  },
  {
   "cell_type": "markdown",
   "id": "43ffd01d",
   "metadata": {},
   "source": [
    "Let’s look at the flux map."
   ]
  },
  {
   "cell_type": "code",
   "execution_count": null,
   "id": "e14c8bdc",
   "metadata": {},
   "outputs": [],
   "source": [
    "plt.rcdefaults()\n",
    "\n",
    "flux_map = fits.open('/mnt/carterrhea/carterrhea/M33/Luci_outputs/Fluxes/M33_Field7_wvt_1_Halpha_Flux.fits')[0].data.T\n",
    "header = fits.open('/mnt/carterrhea/carterrhea/M33/Luci_outputs/M33_Field7_deep.fits')[0].header\n",
    "wcs = WCS(header)\n",
    "cmap = cm.CMRmap\n",
    "cmap.set_bad('black',1.)\n",
    "\n",
    "fig = plt.figure(figsize=(10, 10))\n",
    "ax = plt.subplot(projection=wcs)\n",
    "plt.imshow(flux_map[800:850,800:850], norm = LogNorm(vmin=1e-18, vmax=5.01837e-15), origin='lower', cmap=cmap)\n",
    "plt.rcParams[\"font.weight\"] = \"bold\"\n",
    "plt.rcParams[\"axes.labelweight\"] = \"bold\"\n",
    "plt.xlabel(r'RA', fontsize=16)\n",
    "plt.ylabel(r'Dec', fontsize=16)\n",
    "cbar = plt.colorbar()\n",
    "cbar.set_label(r'Flux [ergs s$^{-1}$ cm$^{-2}$ $\\AA^{-1}$]', fontsize=16)\n",
    "plt.savefig('/home/carterrhea/Downloads/WVT_Example.png')"
   ]
  },
  {
   "cell_type": "code",
   "execution_count": null,
   "id": "34403291",
   "metadata": {},
   "outputs": [],
   "source": []
  }
 ],
 "metadata": {
  "kernelspec": {
   "display_name": "Python 3.9.9 64-bit",
   "language": "python",
   "name": "python3"
  },
  "language_info": {
   "codemirror_mode": {
    "name": "ipython",
    "version": 3
   },
   "file_extension": ".py",
   "mimetype": "text/x-python",
   "name": "python",
   "nbconvert_exporter": "python",
   "pygments_lexer": "ipython3",
   "version": "3.9.9"
  },
  "vscode": {
   "interpreter": {
    "hash": "e7370f93d1d0cde622a1f8e1c04877d8463912d04d973331ad4851f04de6915a"
   }
  }
 },
 "nbformat": 4,
 "nbformat_minor": 5
}
