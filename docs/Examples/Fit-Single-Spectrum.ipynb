{
 "cells": [
  {
   "cell_type": "code",
   "execution_count": 1,
   "metadata": {
    "pycharm": {
     "name": "#%%\n"
    }
   },
   "outputs": [
    {
     "name": "stderr",
     "output_type": "stream",
     "text": [
      "WARNING: Astrometry.net API key not found in configuration file [astroquery.astrometry_net.core]\n",
      "WARNING: You need to manually edit the configuration file and add it [astroquery.astrometry_net.core]\n",
      "WARNING: You may also register it for this session with AstrometryNet.key = 'XXXXXXXX' [astroquery.astrometry_net.core]\n"
     ]
    }
   ],
   "source": [
    "# Imports\n",
    "import sys\n",
    "sys.path.insert(0, '/home/carterrhea/Documents/LUCI/')  # Location of Luci\n",
    "from LuciBase import Luci\n",
    "import LUCI.LuciPlotting as lplt\n",
    "import matplotlib.pyplot as plt"
   ]
  },
  {
   "cell_type": "code",
   "execution_count": 2,
   "metadata": {
    "pycharm": {
     "name": "#%%\n"
    }
   },
   "outputs": [],
   "source": [
    "#Set Parameters\n",
    "# Using Machine Learning Algorithm for Initial Guess\n",
    "Luci_path = '/home/carterrhea/Documents/LUCI/'\n",
    "cube_dir = '/home/carterrhea/Documents/LUCI_test'  # Path to data cube\n",
    "cube_name = 'NGC6946_SN3.merged.cm1.1.0'  # don't add .hdf5 extension\n",
    "object_name = 'NGC6946'\n",
    "redshift = 0.000133\n",
    "resolution = 1000 # The actual resolution is 400, but we don't have machine learning algorithms for that resolution, so we use 1000"
   ]
  },
  {
   "cell_type": "code",
   "execution_count": 3,
   "metadata": {
    "pycharm": {
     "name": "#%%\n"
    }
   },
   "outputs": [
    {
     "name": "stderr",
     "output_type": "stream",
     "text": [
      "  0%|          | 0/9 [00:00<?, ?it/s]"
     ]
    },
    {
     "name": "stdout",
     "output_type": "stream",
     "text": [
      "Reading in data...\n"
     ]
    },
    {
     "name": "stderr",
     "output_type": "stream",
     "text": [
      "100%|██████████| 9/9 [00:04<00:00,  1.96it/s]\n"
     ]
    },
    {
     "name": "stdout",
     "output_type": "stream",
     "text": [
      "WARNING:tensorflow:SavedModel saved prior to TF 2.5 detected when loading Keras model. Please ensure that you are saving the model with model.save() or tf.keras.models.save_model(), *NOT* tf.saved_model.save(). To confirm, there should be a file named \"keras_metadata.pb\" in the SavedModel directory.\n"
     ]
    }
   ],
   "source": [
    "# Create Luci object\n",
    "cube = Luci(Luci_path, cube_dir+'/'+cube_name, cube_dir, object_name, redshift, resolution)"
   ]
  },
  {
   "cell_type": "code",
   "execution_count": 4,
   "metadata": {
    "pycharm": {
     "name": "#%%\n"
    }
   },
   "outputs": [
    {
     "name": "stderr",
     "output_type": "stream",
     "text": [
      "100%|██████████| 2064/2064 [00:05<00:00, 411.41it/s]\n"
     ]
    }
   ],
   "source": [
    "bkg_axis, bkg_sky = cube.extract_spectrum_region(cube_dir+'/bkg.reg', mean=True)  # We use mean=True to take the mean of the emission in the region instead of the sum"
   ]
  },
  {
   "cell_type": "code",
   "execution_count": 8,
   "metadata": {
    "pycharm": {
     "name": "#%%\n"
    }
   },
   "outputs": [
    {
     "name": "stderr",
     "output_type": "stream",
     "text": [
      "100%|██████████| 2064/2064 [00:04<00:00, 415.49it/s]\n"
     ]
    },
    {
     "data": {
      "text/plain": [
       "<matplotlib.legend.Legend at 0x7ff3700a1820>"
      ]
     },
     "execution_count": 8,
     "metadata": {},
     "output_type": "execute_result"
    },
    {
     "data": {
      "image/png": "[encoded data removed]",
      "text/plain": [
       "<Figure size 432x288 with 1 Axes>"
      ]
     },
     "metadata": {
      "needs_background": "light"
     },
     "output_type": "display_data"
    }
   ],
   "source": [
    "# Fit!\n",
    "axis, sky, fit_dict = cube.fit_spectrum_region(\n",
    "                                    ['NII6548', 'Halpha', 'NII6583'],#, 'SII6716', 'SII6731'],\n",
    "                                    'sincgauss',\n",
    "                                    [1,1,1], [1,1,1],\n",
    "                                    #[1,1,1,1,1], [1,1,1,1,1],\n",
    "                                    region=cube_dir+'/reg1.reg', bkg=bkg_sky)\n",
    "plt.plot_spectrum(axis, sky, fit_dict['fit_vector'], color='blue', label='spectrum')"
   ]
  },
  {
   "cell_type": "markdown",
   "metadata": {
    "pycharm": {
     "name": "#%% md\n"
    }
   },
   "source": [
    "Evidently the fit of the Halpha/[NII] doublet complexe isn't very good. This is purely due to the poor resolution of the cube (R~400). "
   ]
  },
  {
   "cell_type": "code",
   "execution_count": null,
   "metadata": {
    "pycharm": {
     "name": "#%%\n"
    }
   },
   "outputs": [],
   "source": []
  }
 ],
 "metadata": {
  "kernelspec": {
   "display_name": "Python 3",
   "language": "python",
   "name": "python3"
  },
  "language_info": {
   "codemirror_mode": {
    "name": "ipython",
    "version": 3
   },
   "file_extension": ".py",
   "mimetype": "text/x-python",
   "name": "python",
   "nbconvert_exporter": "python",
   "pygments_lexer": "ipython3",
   "version": "3.9.5"
  }
 },
 "nbformat": 4,
 "nbformat_minor": 4
}